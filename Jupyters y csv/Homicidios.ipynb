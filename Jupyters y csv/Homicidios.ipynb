{
 "cells": [
  {
   "cell_type": "code",
   "execution_count": 1,
   "metadata": {},
   "outputs": [],
   "source": [
    "#Importamos pandas\n",
    "import pandas as pd"
   ]
  },
  {
   "cell_type": "code",
   "execution_count": 2,
   "metadata": {},
   "outputs": [],
   "source": [
    "#leemos el archivo\n",
    "homicidios=pd.read_excel(r\"D:\\Desktop\\proyecto 2\\Datasets\\homicidios.xlsx\")"
   ]
  },
  {
   "cell_type": "code",
   "execution_count": 3,
   "metadata": {},
   "outputs": [
    {
     "name": "stdout",
     "output_type": "stream",
     "text": [
      "<class 'pandas.core.frame.DataFrame'>\n",
      "RangeIndex: 696 entries, 0 to 695\n",
      "Data columns (total 21 columns):\n",
      " #   Column                 Non-Null Count  Dtype         \n",
      "---  ------                 --------------  -----         \n",
      " 0   ID                     696 non-null    object        \n",
      " 1   N_VICTIMAS             696 non-null    int64         \n",
      " 2   FECHA                  696 non-null    datetime64[ns]\n",
      " 3   AAAA                   696 non-null    int64         \n",
      " 4   MM                     696 non-null    int64         \n",
      " 5   DD                     696 non-null    int64         \n",
      " 6   HORA                   696 non-null    object        \n",
      " 7   HH                     696 non-null    object        \n",
      " 8   LUGAR_DEL_HECHO        696 non-null    object        \n",
      " 9   TIPO_DE_CALLE          696 non-null    object        \n",
      " 10  Calle                  695 non-null    object        \n",
      " 11  Altura                 129 non-null    float64       \n",
      " 12  Cruce                  525 non-null    object        \n",
      " 13  Dirección Normalizada  688 non-null    object        \n",
      " 14  COMUNA                 696 non-null    int64         \n",
      " 15  XY (CABA)              696 non-null    object        \n",
      " 16  pos x                  696 non-null    object        \n",
      " 17  pos y                  696 non-null    object        \n",
      " 18  PARTICIPANTES          696 non-null    object        \n",
      " 19  VICTIMA                696 non-null    object        \n",
      " 20  ACUSADO                696 non-null    object        \n",
      "dtypes: datetime64[ns](1), float64(1), int64(5), object(14)\n",
      "memory usage: 114.3+ KB\n"
     ]
    }
   ],
   "source": [
    "#Nos Fijamos el formato de dataset \n",
    "homicidios.info()"
   ]
  },
  {
   "cell_type": "code",
   "execution_count": 4,
   "metadata": {},
   "outputs": [
    {
     "name": "stdout",
     "output_type": "stream",
     "text": [
      "ID                         0\n",
      "N_VICTIMAS                 0\n",
      "FECHA                      0\n",
      "AAAA                       0\n",
      "MM                         0\n",
      "DD                         0\n",
      "HORA                       0\n",
      "HH                         0\n",
      "LUGAR_DEL_HECHO            0\n",
      "TIPO_DE_CALLE              0\n",
      "Calle                      1\n",
      "Altura                   567\n",
      "Cruce                    171\n",
      "Dirección Normalizada      8\n",
      "COMUNA                     0\n",
      "XY (CABA)                  0\n",
      "pos x                      0\n",
      "pos y                      0\n",
      "PARTICIPANTES              0\n",
      "VICTIMA                    0\n",
      "ACUSADO                    0\n",
      "dtype: int64\n"
     ]
    }
   ],
   "source": [
    "#vemos los nulos que hay\n",
    "nulos=homicidios.isnull().sum()\n",
    "print(nulos)"
   ]
  },
  {
   "cell_type": "code",
   "execution_count": 5,
   "metadata": {},
   "outputs": [],
   "source": [
    "#Eliminamos columnas inesesarias \n",
    "eliminar=[\"AAAA\", \"MM\", \"DD\", \"HORA\", \"Calle\", \"Altura\", \"Cruce\", \"Dirección Normalizada\", \"XY (CABA)\"]\n",
    "homicidios.drop(columns=eliminar, inplace=True)"
   ]
  },
  {
   "cell_type": "code",
   "execution_count": 6,
   "metadata": {},
   "outputs": [],
   "source": [
    "#guardamos como csv\n",
    "homicidios.to_csv(\"Homicidios.csv\", index=False)"
   ]
  }
 ],
 "metadata": {
  "kernelspec": {
   "display_name": "Python 3",
   "language": "python",
   "name": "python3"
  },
  "language_info": {
   "codemirror_mode": {
    "name": "ipython",
    "version": 3
   },
   "file_extension": ".py",
   "mimetype": "text/x-python",
   "name": "python",
   "nbconvert_exporter": "python",
   "pygments_lexer": "ipython3",
   "version": "3.11.2"
  }
 },
 "nbformat": 4,
 "nbformat_minor": 2
}
